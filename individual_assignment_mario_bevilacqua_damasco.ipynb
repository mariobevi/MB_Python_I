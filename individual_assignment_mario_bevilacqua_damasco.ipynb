{
 "cells": [
  {
   "cell_type": "markdown",
   "metadata": {},
   "source": [
    "## Individual assignment\n",
    "\n",
    "**Humanity has finally reached Mars. There are 4 colonies, and the humans are more or less adapting to life there**\n",
    "\n",
    "The 4 cities are called `Yharnam`, `Marsdrid`, `Ironforge` and `Churroland`. Each city has its own `population`.\n",
    "```python\n",
    "population = {\n",
    "    'Yharnam': 1000,\n",
    "    'Marsdrid': 2000,\n",
    "    'Ironforge': 3000,\n",
    "    'Churroland': 4000,\n",
    "}\n",
    "``` \n",
    "\n",
    "The cities are all connected to each other, with different `distances` between them (see attached PDF). There are also important points for life, like the three water sources, or wells. There's also a volcano that the Mars Geological Survey is monitoring. All these landmarks are defined by their coordinates, which are given in the `landmarks` dictionary. \n",
    "    \n",
    "```python\n",
    "# coordinates in kilometers\n",
    "landmarks = {\n",
    "    'Yharnam': (0, 0),\n",
    "    'Marsdrid': (0, 150),\n",
    "    'Ironforge': (100, 50),\n",
    "    'Churroland': (150, 100),\n",
    "    'Well 1': (0, 50),\n",
    "    'Well 2': (0, 100),\n",
    "    'Well 3': (100, 100),\n",
    "    'Volcano': (50, 100),\n",
    "}\n",
    "```\n",
    "\n",
    "Rules:\n",
    "* You can use any of the tools we have seen in class, nothing else.\n",
    "* You can't share your code with anyone else.\n",
    "* 1 point per correctly solved exercise.\n",
    "* No points deducted from incorrect answers.\n",
    "* **SUBMISSION:**\n",
    "  * ONE (1) JUPYTER NOTEBOOK, based on this one, with your name as the filename:\n",
    "    * `individual_assignment_daniel_garcia_hernandez.ipynb`\n",
    "  * No submission will be accepted after the deadline.\n",
    "  * No submission will be accepted if the description of the exercises is changed\n",
    "  * No submission will be accepted if the order of the exervises is changed"
   ]
  },
  {
   "cell_type": "code",
   "execution_count": 1,
   "metadata": {},
   "outputs": [],
   "source": [
    "population = {\n",
    "    'Yharnam': 1000,\n",
    "    'Marsdrid': 2000,\n",
    "    'Ironforge': 3000,\n",
    "    'Churroland': 4000,\n",
    "}\n",
    "\n",
    "landmarks = {\n",
    "    'Yharnam': (0, 0),\n",
    "    'Marsdrid': (0, 150),\n",
    "    'Ironforge': (100, 50),\n",
    "    'Churroland': (150, 100),\n",
    "    'Well 1': (0, 50),\n",
    "    'Well 2': (0, 100),\n",
    "    'Well 3': (100, 100),\n",
    "    'Volcano': (50, 100),\n",
    "}"
   ]
  },
  {
   "cell_type": "markdown",
   "metadata": {},
   "source": [
    "### Exercise 1\n",
    "\n",
    "Knowing that we can calculate the distance between two points in 2-dimensional space using the formula:\n",
    "$$d = \\sqrt{(x_2 - x_1)^2 + (y_2 - y_1)^2}$$\n",
    "write a function that takes two points as input and returns the distance between them.\n",
    "\n",
    "Each point should be a tuple of two numbers `(x, y)` representing the two coordinates --horizontal and vertical-- of the point.\n",
    "\n",
    "```python\n",
    "def distance(point1, point2):\n",
    "    # Your code here\n",
    "    return distance\n",
    "```"
   ]
  },
  {
   "cell_type": "code",
   "execution_count": 2,
   "metadata": {},
   "outputs": [],
   "source": [
    "import math"
   ]
  },
  {
   "cell_type": "code",
   "execution_count": 276,
   "metadata": {},
   "outputs": [],
   "source": [
    "def distance(point1, point2):\n",
    "    x1, y1 = point1\n",
    "    x2, y2 = point2\n",
    "    distance = math.sqrt((x2 - x1)**2 + (y2 - y1)**2)\n",
    "    return distance"
   ]
  },
  {
   "cell_type": "code",
   "execution_count": 307,
   "metadata": {},
   "outputs": [
    {
     "name": "stdout",
     "output_type": "stream",
     "text": [
      "70.71067811865476\n"
     ]
    }
   ],
   "source": [
    "point1 = (200,50)\n",
    "point2 = (150, 100)\n",
    "result_formula = distance(point1, point2)\n",
    "print(result_formula)"
   ]
  },
  {
   "cell_type": "markdown",
   "metadata": {},
   "source": [
    "### Exercise 2\n",
    "\n",
    "Now that we know how to calculate the distance between two points, we can calculate the distance between two landmarks. \n",
    "\n",
    "Write a function that takes the followning arguments:\n",
    "* `landmarks`: a dictionary with the coordinates of the landmarks\n",
    "* `landmarks_list`: a list of the landmarks we want to calculate the distance between. It should be a list of 2 strings, where each string is the name of a landmark.\n",
    "\n",
    "and returns the distance between them, using the function you wrote in the previous exercise.\n",
    "\n",
    "```python\n",
    "def distance_between_landmarks(landmarks, landmarks_list):\n",
    "    # Your code here using the distance function from exercise 1\n",
    "    return distance\n",
    "```"
   ]
  },
  {
   "cell_type": "code",
   "execution_count": 311,
   "metadata": {},
   "outputs": [],
   "source": [
    "def distance_between_landmarks(landmarks, landmarks_list):\n",
    "    point1 = landmarks.get(landmarks_list[0])\n",
    "    point2 = landmarks.get(landmarks_list[1])\n",
    "    return distance(point1, point2)"
   ]
  },
  {
   "cell_type": "code",
   "execution_count": 312,
   "metadata": {},
   "outputs": [
    {
     "name": "stdout",
     "output_type": "stream",
     "text": [
      "150.0\n"
     ]
    }
   ],
   "source": [
    "landmarks_list = ['Marsdrid', 'Yharnam']\n",
    "result_landmark = distance_between_landmarks(landmarks, landmarks_list)\n",
    "print(result_landmark)"
   ]
  },
  {
   "cell_type": "markdown",
   "metadata": {},
   "source": [
    "### Exercise 3\n",
    "\n",
    "Let's analyze which city has a better access to water. To do so, we need to calculate the distance between each city and each well, and then average the distances.\n",
    "\n",
    "We can do this by using a double `for` loop:\n",
    "\n",
    "```python\n",
    "dict_of_avg_distances = {}\n",
    "\n",
    "for city in cities:\n",
    "\n",
    "    distances_to_wells = []\n",
    "\n",
    "    for well in wells:\n",
    "        \n",
    "        # Calculate distance between city and well\n",
    "        # save the distance in a list with append\n",
    "\n",
    "    # sum the 3 distances in the list and divide by 3 to calculate the average\n",
    "    # add the average distance to a dictionary where the key is the city and the value is the average distance to water.\n",
    "```\n"
   ]
  },
  {
   "cell_type": "code",
   "execution_count": 278,
   "metadata": {},
   "outputs": [],
   "source": [
    "def analyze_water_access(landmarks):\n",
    "    dict_of_avg_distances = {}\n",
    "\n",
    "    cities = [name for name in landmarks if name not in ['Well 1', 'Well 2', 'Well 3', 'Volcano']]\n",
    "    wells = [landmarks[name] for name in landmarks if name.startswith('Well')]\n",
    "\n",
    "    for city in cities:\n",
    "        distances_to_wells = []\n",
    "\n",
    "        for well in wells:\n",
    "            distance_to_well = distance(landmarks[city], well)\n",
    "            distances_to_wells.append(distance_to_well)\n",
    "\n",
    "        avg_distance = sum(distances_to_wells) / len(distances_to_wells)\n",
    "        dict_of_avg_distances[city] = avg_distance\n",
    "\n",
    "    return dict_of_avg_distances\n"
   ]
  },
  {
   "cell_type": "code",
   "execution_count": 313,
   "metadata": {},
   "outputs": [
    {
     "name": "stdout",
     "output_type": "stream",
     "text": [
      "{'Yharnam': 97.14045207910317, 'Marsdrid': 87.2677996249965, 'Ironforge': 87.2677996249965, 'Churroland': 119.37129433613966}\n"
     ]
    }
   ],
   "source": [
    "avg_distances_to_well = analyze_water_access(landmarks)\n",
    "print(avg_distances_to_well)\n",
    "\n",
    "wells"
   ]
  },
  {
   "cell_type": "markdown",
   "metadata": {},
   "source": [
    "### Exercise 4\n",
    "\n",
    "Which city or cities have the best access to water? Which city or cities has the worst access to water?\n",
    "\n",
    "Hint: you can use the `min` and `max` functions to find the minimum and maximum values in a dictionary, passing the dictionary as an argument, and using the `key` argument to specify which value to use to find the minimum or maximum.\n",
    "\n",
    "```python\n",
    "dummy_dict = {\n",
    "    'city1': 10,\n",
    "    'city2': 20,\n",
    "    'city3': 30,\n",
    "}\n",
    "\n",
    "min_value = min(dummy_dict, key=dummy_dict.get)\n",
    "max_value = max(dummy_dict, key=dummy_dict.get)\n",
    "```\n",
    "Keep in mind that these functions will return the first key found with the minimum or maximum value, so if there are repeated values, it might not be the one you want."
   ]
  },
  {
   "cell_type": "code",
   "execution_count": 324,
   "metadata": {},
   "outputs": [
    {
     "name": "stdout",
     "output_type": "stream",
     "text": [
      "Cities with the best access to water: ['Marsdrid', 'Ironforge']\n",
      "Cities with the worst access to water: ['Churroland']\n"
     ]
    }
   ],
   "source": [
    "#For this calculation, the best and worst cities access to well is by using the averages calculated before. \n",
    "\n",
    "avg_distances_wells = {\n",
    "    'Yharnam': 97.14,\n",
    "    'Marsdrid': 87.26,\n",
    "    'Ironforge': 87.26,\n",
    "    'Churroland': 119.37\n",
    "}\n",
    "\n",
    "best_distance = min(avg_distances_wells.values())\n",
    "worst_distance = max(avg_distances_wells.values())\n",
    "\n",
    "best_cities = [city for city, distance in avg_distances_wells.items() if distance == best_distance]\n",
    "worst_cities = [city for city, distance in avg_distances_wells.items() if distance == worst_distance]\n",
    "\n",
    "print(\"Cities with the best access to water:\", best_cities)\n",
    "print(\"Cities with the worst access to water:\", worst_cities)\n",
    "\n",
    "#We can see that 2 cities have the same average distance to the Wells. "
   ]
  },
  {
   "cell_type": "markdown",
   "metadata": {},
   "source": [
    "### Exercise 5\n",
    "\n",
    "Now that we know which city has the best access to water, create a dictionary with the cities as keys and their distance to the volcano as values"
   ]
  },
  {
   "cell_type": "code",
   "execution_count": 282,
   "metadata": {},
   "outputs": [
    {
     "name": "stdout",
     "output_type": "stream",
     "text": [
      "{'Yharnam': 111.80339887498948, 'Marsdrid': 70.71067811865476, 'Ironforge': 70.71067811865476, 'Churroland': 100.0}\n"
     ]
    }
   ],
   "source": [
    "volcano_distances = landmarks['Volcano']\n",
    "\n",
    "city_distances_to_volcano = {}\n",
    "\n",
    "for city, coordinates in landmarks.items():\n",
    "    if city != 'Volcano' and not city.startswith('Well'):\n",
    "        distance_to_volcano = distance(coordinates, volcano_distances)\n",
    "        city_distances_to_volcano[city] = distance_to_volcano\n",
    "\n",
    "print(city_distances_to_volcano)"
   ]
  },
  {
   "cell_type": "markdown",
   "metadata": {},
   "source": [
    "### Exercise 6\n",
    "\n",
    "The Geological Survey found that in case of an eruption, the explosion will have a radius between 75 and 110 km.\n",
    "* In the best case scenario, the explosion will be 75 km away from the volcano.\n",
    "* In the worst case scenario, the explosion will be 110 km away from the volcano.\n",
    "\n",
    "Knowing this, which city or cities are at risk of being destroyed by the volcano in the best case scenario? Which city or cities are at risk of being destroyed by the volcano in the worst case scenario?\n",
    "\n",
    "Write a function that takes in the `landmarks` and the explosion radii in each scenario, and returns which cities are at rist of being destroyed.\n",
    "\n",
    "```python\n",
    "def cities_at_risk(landmarks, [best_case_radius, worst_case_radius]):\n",
    "    # Your code here\n",
    "    return cities_at_risk_best_case, cities_at_risk_worst_case\n",
    "```"
   ]
  },
  {
   "cell_type": "code",
   "execution_count": 284,
   "metadata": {},
   "outputs": [
    {
     "name": "stdout",
     "output_type": "stream",
     "text": [
      "Cities at risk in the best case scenario: ['Marsdrid', 'Ironforge']\n",
      "Cities at risk in the worst case scenario: ['Marsdrid', 'Ironforge', 'Churroland']\n"
     ]
    }
   ],
   "source": [
    "def cities_at_risk(landmarks, explosion_radius):\n",
    "    best_case_radius, worst_case_radius = explosion_radius\n",
    "    \n",
    "    cities_at_risk_best_case = [city for city, distance in landmarks.items() if distance <= best_case_radius]\n",
    "    cities_at_risk_worst_case = [city for city, distance in landmarks.items() if distance <= worst_case_radius]\n",
    "    \n",
    "    return cities_at_risk_best_case, cities_at_risk_worst_case\n",
    "\n",
    "explosion_radius = [75, 110]\n",
    "\n",
    "cities_at_risk_best_case, cities_at_risk_worst_case = cities_at_risk(city_distances_to_volcano, explosion_radius)\n",
    "\n",
    "print(\"Cities at risk in the best case scenario:\", cities_at_risk_best_case)\n",
    "print(\"Cities at risk in the worst case scenario:\", cities_at_risk_worst_case)\n"
   ]
  },
  {
   "cell_type": "markdown",
   "metadata": {},
   "source": [
    "### Exercise 7\n",
    "\n",
    "Our worst fears have come true. The volcano has increased its activity and our geologist have estimated the radius of explosion: 90 km.\n",
    "\n",
    "We need to evacuate the cities at risk. How many people will we have to evacuate?\n",
    "\n",
    "Adapt the previous function to return the number of people at risk, passing the `population` dictionary as an argument, as well as `landmarks` and the explosion radius.\n",
    "\n",
    "```python\n",
    "def population_to_evacuate(landmarks, population, explosion_radius):\n",
    "    # Your code here\n",
    "    return people_at_risk\n",
    "```"
   ]
  },
  {
   "cell_type": "code",
   "execution_count": 285,
   "metadata": {},
   "outputs": [
    {
     "name": "stdout",
     "output_type": "stream",
     "text": [
      "Number of people to evacuate: 5000\n"
     ]
    }
   ],
   "source": [
    "def population_to_evacuate(landmarks, population, explosion_updated):\n",
    "    cities_at_risk = [city for city, distance in landmarks.items() if distance <= explosion_updated]\n",
    "    people_at_risk = sum(population.get(city, 0) for city in cities_at_risk)\n",
    "    return people_at_risk\n",
    "\n",
    "explosion_updated = 90\n",
    "\n",
    "people_to_evacuate = population_to_evacuate(city_distances_to_volcano, population, explosion_updated)\n",
    "\n",
    "print(\"Number of people to evacuate:\", people_to_evacuate)"
   ]
  },
  {
   "cell_type": "markdown",
   "metadata": {},
   "source": [
    "### Exercise 8\n",
    "\n",
    "Which cities are the ones we need to evacuate? Which cities are the ones we can keep?\n",
    "\n",
    "Reuse the previous function to return a dictionary with `keep` and `evacuate` as keys, and the cities as values.\n",
    "\n",
    "```python\n",
    "dict_status = {\n",
    "    'keep': [city1, city2, city3],\n",
    "    'evacuate': [city4, city5, city6],\n",
    "}\n",
    "```\n",
    "\n",
    "```python\n",
    "def status_of_cities(landmarks, explosion_radius):\n",
    "    # Your code here\n",
    "    return dict_status\n",
    "```"
   ]
  },
  {
   "cell_type": "code",
   "execution_count": 287,
   "metadata": {},
   "outputs": [
    {
     "name": "stdout",
     "output_type": "stream",
     "text": [
      "Cities to Keep: ['Yharnam', 'Churroland']\n",
      "Cities to Evacuate: ['Marsdrid', 'Ironforge']\n"
     ]
    }
   ],
   "source": [
    "def status_of_cities(landmarks, explosion_updated):\n",
    "    cities_at_risk = [city for city, distance in landmarks.items() if distance <= explosion_updated]\n",
    "    all_cities = list(landmarks.keys())\n",
    "\n",
    "    dict_status = {\n",
    "        'keep': [city for city in all_cities if city not in cities_at_risk],\n",
    "        'evacuate': cities_at_risk\n",
    "    }\n",
    "\n",
    "    return dict_status\n",
    "\n",
    "\n",
    "explosion_updated = 90\n",
    "dict_status = status_of_cities(city_distances_to_volcano, explosion_updated)\n",
    "\n",
    "cities_to_keep = dict_status['keep']\n",
    "cities_to_evacuate = dict_status['evacuate']\n",
    "\n",
    "print(\"Cities to Keep:\", cities_to_keep)\n",
    "print(\"Cities to Evacuate:\", cities_to_evacuate)\n"
   ]
  },
  {
   "cell_type": "markdown",
   "metadata": {},
   "source": [
    "### Exercise 9: open-ended\n",
    "\n",
    "What's the best way to evacuate the cities? Let's think of the difficulty for the evacuation as the product of the population to be evacuated and the distance to which they're being evacuated.\n",
    "\n",
    "```python\n",
    "difficulty = population_to_evacuate * distance_to_safety\n",
    "```\n",
    "\n",
    "We can evacuate all the population to the same city, or we can split the population between the cities, according to the distance between their original city and the city they're being evacuated to.\n",
    "\n",
    "Use code to back your decision."
   ]
  },
  {
   "cell_type": "markdown",
   "metadata": {},
   "source": [
    "#### Open-Ended Solution\n",
    "\n",
    "The steps necessary to solve this question are the following:\n",
    "    1) The cities to evacuate are determined in Exercise 8, which takes into account the new explosion radius of the volcano, which is 90km. The cities to evacuate are \"Marsdrid and Ironforge\", and the cities that could be used as evacuation \"safety\" cities are \"Churroland and Yharnam\". \n",
    "    2) Identify the Scenario's available to evacuate the cities, based on the formula given before called \"difficulty\", which determines the easiest possible scenario for evacuating the city. \n",
    "    3) Take the decision of which scenario is best/worse, backed with the coding.\n",
    "    \n",
    "The two possible scenario's are the following: \n",
    "        Scenario 1: Evacuating all the cities in danger to the same evacuation city. In this scenario there can be 2 options, all to Yharnam or all to Churroland.\n",
    "               (Marsdrid + Ironforge --> Churroland) or \n",
    "               (Marsdrid + Ironforge --> Yharnam)      \n",
    "        Scenario 2: Evacuating the danger cities to the lowest difficulty city. In this scenario, the evaluation is separately of each city. Once you evaluate the lowest score, choose the best possible evacuation city for the danger city. The total difficulty of Scenario 2 is the sum of both evacuations lowest possibilities. \n",
    "                 (Marsdrid --> Churroland) or (Marsdrid --> Yharnam) \n",
    "                and (Ironforge --> Churroland) or (Ironforge --> Yharnam) "
   ]
  },
  {
   "cell_type": "code",
   "execution_count": 251,
   "metadata": {},
   "outputs": [
    {
     "name": "stdout",
     "output_type": "stream",
     "text": [
      "Difficulty of evacuating to Yharnam: 635400.0\n",
      "Difficulty of evacuating to Churroland: 528390.0\n",
      "Best city for evacuation: Churroland , Difficulty: 528390.0\n"
     ]
    }
   ],
   "source": [
    "#Scenario 1 \n",
    "# The distance to safety is calculated using the function in exercise 1 or 2 and inserted here. \n",
    "evacuate_to_churroland = (population['Marsdrid'] * 158.13) +  (population['Ironforge'] * 70.71) \n",
    "evacuate_to_yharnam = (population['Marsdrid'] * 150) +  (population['Ironforge'] * 111.80) \n",
    "\n",
    "min_difficulty = min(evacuate_to_yharnam, evacuate_to_churroland)\n",
    "\n",
    "if min_difficulty == evacuate_to_yharnam:\n",
    "    best_evacuation_city = 'Yharnam'\n",
    "else:\n",
    "    best_evacuation_city = 'Churroland'\n",
    "    \n",
    "#Printing the results to know which option is better in this case scenario\n",
    "print(\"Difficulty of evacuating to Yharnam:\", evacuate_to_yharnam)\n",
    "print(\"Difficulty of evacuating to Churroland:\", evacuate_to_churroland)\n",
    "print(\"Best city for evacuation:\", best_evacuation_city,\", Difficulty:\", min_difficulty)"
   ]
  },
  {
   "cell_type": "code",
   "execution_count": 244,
   "metadata": {},
   "outputs": [],
   "source": [
    "#Scenario 2: Evacuate danger city to the city with the lowest difficulty"
   ]
  },
  {
   "cell_type": "code",
   "execution_count": 245,
   "metadata": {},
   "outputs": [
    {
     "name": "stdout",
     "output_type": "stream",
     "text": [
      "Difficulty of evacuating Marsdrid to Yharnam: 300000\n",
      "Difficulty of evacuating Marsdrid to Churroland: 316260.0\n",
      "Best city for evacuation of Marsdrid: Yharnam , Difficulty: 300000\n"
     ]
    }
   ],
   "source": [
    "#Marsdrid to Churroland or to Yharnam \n",
    "# The distance to safety is calculated using the function in exercise 1 or 2 and inserted here. \n",
    "evacuate_marsdrid_to_churroland = (population['Marsdrid'] * 158.13)\n",
    "evacuate_marsdrid_to_yharnam = (population['Marsdrid'] * 150)\n",
    "\n",
    "min_difficulty_marsdrid = min(evacuate_marsdrid_to_churroland,evacuate_marsdrid_to_yharnam)\n",
    "\n",
    "if min_difficulty_marsdrid == evacuate_marsdrid_to_yharnam:\n",
    "    best_evacuation_city_marsdrid = 'Yharnam'\n",
    "else:\n",
    "    best_evacuation_city_marsdrid = 'Churroland'\n",
    "\n",
    "print(\"Difficulty of evacuating Marsdrid to Yharnam:\", evacuate_marsdrid_to_yharnam)\n",
    "print(\"Difficulty of evacuating Marsdrid to Churroland:\",evacuate_marsdrid_to_churroland)\n",
    "print(\"Best city for evacuation of Marsdrid:\", best_evacuation_city_marsdrid,\", Difficulty:\", min_difficulty_marsdrid)\n"
   ]
  },
  {
   "cell_type": "code",
   "execution_count": null,
   "metadata": {},
   "outputs": [
    {
     "name": "stdout",
     "output_type": "stream",
     "text": [
      "Difficulty of evacuating Ironforge to Yharnam: 335400.0\n",
      "Difficulty of evacuating Ironforge to Churroland: 212129.99999999997\n",
      "Best city for evacuation of Ironforge: Churroland , Difficulty: 212129.99999999997\n"
     ]
    }
   ],
   "source": [
    "#Ironforge to Churroland or to Yharnam \n",
    "#The distance to safety is calculated using the function in exercise 1 or 2 and inserted here. \n",
    "evacuate_ironforge_to_churroland = (population['Ironforge'] * 70.71)\n",
    "evacuate_irongforge_to_yharnam = (population['Ironforge'] * 111.80) \n",
    "\n",
    "min_difficulty_ironforge = min(evacuate_ironforge_to_churroland,evacuate_irongforge_to_yharnam)\n",
    "\n",
    "if min_difficulty_ironforge == evacuate_irongforge_to_yharnam:\n",
    "    best_evacuation_city_ironforge = 'Yharnam'\n",
    "else:\n",
    "    best_evacuation_city_ironforge = 'Churroland'\n",
    "\n",
    "print(\"Difficulty of evacuating Ironforge to Yharnam:\", evacuate_irongforge_to_yharnam)\n",
    "print(\"Difficulty of evacuating Ironforge to Churroland:\",evacuate_ironforge_to_churroland)\n",
    "print(\"Best city for evacuation of Ironforge:\", best_evacuation_city_ironforge,\", Difficulty:\", min_difficulty_ironforge)\n"
   ]
  },
  {
   "cell_type": "code",
   "execution_count": 253,
   "metadata": {},
   "outputs": [
    {
     "name": "stdout",
     "output_type": "stream",
     "text": [
      "Minimum Possible Difficulty Scenario 1: 528390.0 which is evacuating Marsdrid and Ironforge to: Churroland\n",
      "Minimum Possible Difficulty Scenario 2: 512130.0 which is evacuating Marsdrid to Yharnam , and Ironforge to Churroland\n"
     ]
    }
   ],
   "source": [
    "#Total Difficulty of Scenario 1: \n",
    "print (\"Minimum Possible Difficulty Scenario 1:\", min_difficulty, \"which is evacuating Marsdrid and Ironforge to:\",best_evacuation_city)\n",
    "\n",
    "#Total Difficulty of Scenario 2:\n",
    "print (\"Minimum Possible Difficulty Scenario 2:\", min_difficulty_ironforge + min_difficulty_marsdrid , \"which is evacuating Marsdrid to\", best_evacuation_city_marsdrid, \", and Ironforge to\",best_evacuation_city_ironforge) "
   ]
  },
  {
   "cell_type": "markdown",
   "metadata": {},
   "source": [
    "#### Decision of Evacuation \n",
    "\n",
    "The best possible evacuation plan derived from the scenarios evaluated, leaving a side if any of the cities has a constraint of allowing an extra percentage of population. \n",
    "\n",
    "Scenario 1: The best possible solution of this scenario is to evacuate Marsdrid and Ironforge to Churroland, which derives with the lowest possible difficulty at 528390. \n",
    "\n",
    "Scenario 2: The evaluation is separate of each city. The the difficulty of the best option of each is summed up. \n",
    "Marsdrid: The best option for Marsdrid is to be evacuated to Yharnam, with a difficulty of 300000. \n",
    "Ironforge: The best option for Ironforge is to be evacuated to Churroland, with a difficulty of 212129.99\n",
    "\n",
    "To conclude, the best possible way to evacuate the cities in danger is given in Scenario 2. It sums a difficulty of 512130 compared to Scenario 1, 528390. Adding to the sum of the difficulty we could also add the potential collapse of the city in the case of scenario 1, which is managing an extra 5000 people in their city."
   ]
  }
 ],
 "metadata": {
  "kernelspec": {
   "display_name": "Python 3 (ipykernel)",
   "language": "python",
   "name": "python3"
  },
  "language_info": {
   "codemirror_mode": {
    "name": "ipython",
    "version": 3
   },
   "file_extension": ".py",
   "mimetype": "text/x-python",
   "name": "python",
   "nbconvert_exporter": "python",
   "pygments_lexer": "ipython3",
   "version": "3.10.9"
  },
  "vscode": {
   "interpreter": {
    "hash": "a9f295c814a5ce7ff0b0a20f2b13117bfaf008fc7980e281f2c2bfa8e9ec0fbf"
   }
  }
 },
 "nbformat": 4,
 "nbformat_minor": 4
}
